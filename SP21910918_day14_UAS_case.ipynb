{
 "cells": [
  {
   "cell_type": "code",
   "execution_count": 2,
   "metadata": {},
   "outputs": [
    {
     "data": {
      "application/vnd.jupyter.widget-view+json": {
       "model_id": "",
       "version_major": 2,
       "version_minor": 0
      },
      "method": "display_data"
     },
     "metadata": {},
     "output_type": "display_data"
    },
    {
     "data": {
      "application/vnd.jupyter.widget-view+json": {
       "model_id": "de5f2da3-17a3-4d4c-bbea-c30a06c4c4cd",
       "version_major": 2,
       "version_minor": 0
      },
      "method": "display_data"
     },
     "metadata": {},
     "output_type": "display_data"
    }
   ],
   "source": [
    "%%classpath add mvn\n",
    "tech.tablesaw tablesaw-beakerx 0.35.0\n",
    "com.jimmoores quandl-tablesaw 2.0.0\n",
    "com.github.haifengl smile-core 1.5.2\n",
    "tech.tablesaw tablesaw-excel 0.35.0\n",
    "tech.tablesaw tablesaw-json 0.35.0\n",
    "org.xerial sqlite-jdbc 3.28.0\n",
    "org.jsoup jsoup 1.11.3"
   ]
  },
  {
   "cell_type": "code",
   "execution_count": 3,
   "metadata": {},
   "outputs": [
    {
     "data": {
      "text/plain": [
       "null"
      ]
     },
     "execution_count": 3,
     "metadata": {},
     "output_type": "execute_result"
    }
   ],
   "source": [
    "%import static tech.tablesaw.aggregate.AggregateFunctions.*\n",
    "%import tech.tablesaw.api.*\n",
    "%import tech.tablesaw.columns.*\n",
    "%import smile.clustering.*\n",
    "%import smile.regression.*\n",
    "\n",
    "tech.tablesaw.beakerx.TablesawDisplayer.register();"
   ]
  },
  {
   "cell_type": "code",
   "execution_count": 12,
   "metadata": {
    "scrolled": true
   },
   "outputs": [
    {
     "name": "stdout",
     "output_type": "stream",
     "text": [
      "                                                          12181631.xlsx                                                           \n",
      " _id   |  idx   |                   series                    |  kode_wilayah  |         wilayah         |  tahun  |    nilai    |\n",
      "----------------------------------------------------------------------------------------------------------------------------------\n",
      " 2006  |  2005  |  Kerugian Materi Akibat Kekeringan (Lahan)  |       1707011  |      TOPOS/JURU KALANG  |   2011  |             |\n",
      " 2007  |  2006  |  Kerugian Materi Akibat Kekeringan (Lahan)  |       1707020  |         LEBONG SELATAN  |   2011  |             |\n",
      " 2008  |  2007  |  Kerugian Materi Akibat Kekeringan (Lahan)  |       1707021  |          BINGIN KUNING  |   2011  |             |\n",
      " 2009  |  2008  |  Kerugian Materi Akibat Kekeringan (Lahan)  |       1707030  |          LEBONG TENGAH  |   2011  |             |\n",
      " 2010  |  2009  |  Kerugian Materi Akibat Kekeringan (Lahan)  |       1707031  |           LEBONG SAKTI  |   2011  |             |\n",
      " 2011  |  2010  |  Kerugian Materi Akibat Kekeringan (Lahan)  |       1707040  |            LEBONG ATAS  |   2011  |  250000000  |\n",
      " 2012  |  2011  |  Kerugian Materi Akibat Kekeringan (Lahan)  |       1707041  |            PADANG BANO  |   2011  |             |\n",
      " 2013  |  2012  |  Kerugian Materi Akibat Kekeringan (Lahan)  |       1707042  |  PELABAI/SUKU SEMBILAN  |   2011  |             |\n",
      " 2014  |  2013  |  Kerugian Materi Akibat Kekeringan (Lahan)  |       1707050  |           LEBONG UTARA  |   2011  |             |\n",
      " 2015  |  2014  |  Kerugian Materi Akibat Kekeringan (Lahan)  |       1707051  |                   AMEN  |   2011  |             |\n",
      "  ...  |   ...  |                                        ...  |           ...  |                    ...  |    ...  |        ...  |\n",
      " 1996  |  1995  |  Kerugian Materi Akibat Kekeringan (Lahan)  |       1706030  |         TERAS TERUNJAM  |   2011  |             |\n",
      " 1997  |  1996  |  Kerugian Materi Akibat Kekeringan (Lahan)  |       1706031  |                PENARIK  |   2011  |             |\n",
      " 1998  |  1997  |  Kerugian Materi Akibat Kekeringan (Lahan)  |       1706032  |           SELAGAN RAYA  |   2011  |             |\n",
      " 1999  |  1998  |  Kerugian Materi Akibat Kekeringan (Lahan)  |       1706040  |          KOTA MUKOMUKO  |   2011  |             |\n",
      " 2000  |  1999  |  Kerugian Materi Akibat Kekeringan (Lahan)  |       1706041  |              AIR DIKIT  |   2011  |             |\n",
      " 2001  |  2000  |  Kerugian Materi Akibat Kekeringan (Lahan)  |       1706042  |               XIV KOTO  |   2011  |             |\n",
      " 2002  |  2001  |  Kerugian Materi Akibat Kekeringan (Lahan)  |       1706050  |           LUBUK PINANG  |   2011  |             |\n",
      " 2003  |  2002  |  Kerugian Materi Akibat Kekeringan (Lahan)  |       1706051  |           AIR MANJUNTO  |   2011  |             |\n",
      " 2004  |  2003  |  Kerugian Materi Akibat Kekeringan (Lahan)  |       1706052  |                 V KOTO  |   2011  |             |\n",
      " 2005  |  2004  |  Kerugian Materi Akibat Kekeringan (Lahan)  |       1707010  |        RIMBO PENGADANG  |   2011  |  150000000  |\n",
      "                                                                             12181631.xlsx summary                                                                             \n",
      " Count [nilai]  |  Sum [nilai]  |  Max [nilai]  |  Min [nilai]  |    Mean [nilai]     |  Range [nilai]  |  Median [nilai]  |   Variance [nilai]    |  Std. Deviation [nilai]  |\n",
      "-------------------------------------------------------------------------------------------------------------------------------------------------------------------------------\n",
      "           116  |  58721000000  |  10320000000  |      1000000  |  506215517.2413792  |    10319000000  |       176500000  |  1435347735757121020  |      1198059988.3800147  |\n"
     ]
    },
    {
     "data": {
      "text/plain": [
       "null"
      ]
     },
     "execution_count": 12,
     "metadata": {},
     "output_type": "execute_result"
    }
   ],
   "source": [
    "import static tech.tablesaw.aggregate.AggregateFunctions.*;\n",
    "\n",
    "import tech.tablesaw.api.*;\n",
    "import tech.tablesaw.io.xlsx.*;\n",
    "\n",
    "tech.tablesaw.beakerx.TablesawDisplayer.register();\n",
    "\n",
    "XlsxReader reader = new XlsxReader();\n",
    "\n",
    "Table data2 = Table.read().csv(\"12181632/12181632.csv\");\n",
    "\n",
    "XlsxReadOptions file1 = XlsxReadOptions.builder(\"12181632/12181632.xlsx\").build();\n",
    "\n",
    "Table data1 = reader.read(file1);\n",
    "\n",
    "Table datagabung = data1.append(data2);\n",
    "\n",
    "System.out.println(datagabung.print()); \n",
    "\n",
    "System.out.println(datagabung.summarize(\"nilai\", count, sum, max, min, mean, range, median, variance, standardDeviation).apply());"
   ]
  },
  {
   "cell_type": "code",
   "execution_count": null,
   "metadata": {},
   "outputs": [],
   "source": [
    "1. ada 116 data\n",
    "2. total nilai 58721000000\n",
    "3. max nilai 10320000000\n",
    "4. min nilai 1000000\n",
    "5. rata-rata mean 506215517.2413792\n",
    "6. Nilai tengah dari nilai yaitu 176500000\n",
    "7. Nilai variasi yaitu  1435347735757121020\n",
    "8. Nilai dari standar deviasi yaitu 1198059988.3800147 "
   ]
  },
  {
   "cell_type": "code",
   "execution_count": null,
   "metadata": {},
   "outputs": [],
   "source": [
    "\n",
    "import static tech.tablesaw.aggregate.AggregateFunctions.*;\n",
    "\n",
    "import tech.tablesaw.api.*;\n",
    "import tech.tablesaw.io.xlsx.*;\n",
    "\n",
    "tech.tablesaw.beakerx.TablesawDisplayer.register();\n",
    "\n",
    "XlsxReader reader = new XlsxReader();\n",
    "\n",
    "Table data2 = Table.read().csv(\"12181632/12181632.csv\");\n",
    "\n",
    "XlsxReadOptions file1 = XlsxReadOptions.builder(\"12181632/12181632.xlsx\").build();\n",
    "\n",
    "Table data1 = reader.read(file1);\n",
    "\n",
    "Table datagabung = data2.append(data1);"
   ]
  }
 ],
 "metadata": {
  "kernelspec": {
   "display_name": "Java",
   "language": "java",
   "name": "java"
  },
  "language_info": {
   "codemirror_mode": "java",
   "file_extension": ".jshell",
   "mimetype": "text/x-java-source",
   "name": "Java",
   "pygments_lexer": "java",
   "version": "11.0.3+7"
  },
  "toc": {
   "base_numbering": 1,
   "nav_menu": {},
   "number_sections": false,
   "sideBar": false,
   "skip_h1_title": false,
   "title_cell": "Table of Contents",
   "title_sidebar": "Contents",
   "toc_cell": false,
   "toc_position": {},
   "toc_section_display": false,
   "toc_window_display": false
  }
 },
 "nbformat": 4,
 "nbformat_minor": 2
}
