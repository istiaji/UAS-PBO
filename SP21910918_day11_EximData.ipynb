{
 "cells": [
  {
   "cell_type": "markdown",
   "metadata": {},
   "source": [
    "> **Requirement**: Baca reqirement yang ada di Sub Bab 10 (day_10)"
   ]
  },
  {
   "cell_type": "code",
   "execution_count": null,
   "metadata": {},
   "outputs": [],
   "source": [
    "//Load Library"
   ]
  },
  {
   "cell_type": "markdown",
   "metadata": {},
   "source": [
    "# 11. Data Ingestion \n",
    "\n",
    " * [A. Pengenalan](#A.-Pengenalan)\n",
    " * [B. Mengimpor Data Dari File CSV](#B.-Mengimpor-Data-Dari-File-CSV)\n",
    " * [C. Mengekspor Data Dari File CSV](#C.-Ekspor-Data-Kedalam-File-CSV)\n",
    " * [D. Mengimpor Data Dari File Excel](#D.-Mengimpor-Data-Dari-File-Excel)\n",
    " * [E. Menggabungkan Data Dari Beberapa File](#E.-Menggabungkan-Data-Dari-Beberapa-File-Excel)\n",
    " * [F. Mengimpor Data Dari JSON](#F.-Mengimpor-Data-Dari-JSON)\n",
    " * [G. Mengimpor Data Dari Website Atau API](#G.-Mengimpor-Data-Dari-Website-Atau-API)\n",
    " * [H. Manipulasi Data Dari Database](#H.-Mengimpor-Data-Dari-Database)\n",
    " * [I. Ekstraksi Data Dari Website](#I.-Ektraksi-Data-Dari-Suatu-Website)"
   ]
  },
  {
   "cell_type": "markdown",
   "metadata": {},
   "source": [
    "## A. Pengenalan \n",
    "Data Ingestion adalah tahap pertama dari analisis data adalah mendapatkan data kemudian memindahkan data dari sumber data (data source) ke dalam stored dari *analitics tools* yang akan kita gunakan.\n",
    "\n",
    "Data frame dari Class *Table* mendukung untuk melakukan import dan export data dari berbagai data sumber(data source). Berikut ini format data sour yang didukung. \n",
    "\n",
    "| Format                         | Import | Export |\n",
    "| :----------------------------- | :----- | :----- |\n",
    "| CSV (and other delimited text) | Yes    | Yes    |\n",
    "| JSON                           | Yes    | Yes    |\n",
    "| Excel                          | Yes    | Yes    |\n",
    "| RDBMS (via JDBC)               | Yes    |        |\n"
   ]
  },
  {
   "cell_type": "markdown",
   "metadata": {},
   "source": [
    "## B. Mengimpor Data Dari File CSV\n",
    "\n",
    "Biasanya data didapat dari suatu file dengan format tertentu atau dari database. Kode berikut ini adalah cara mengimpor data dari suatu file CSV.\n",
    "\n",
    "**Listing 11-1.** Loading Data from CSV File\n",
    "\n",
    "``` javascript\n",
    "import tech.tablesaw.api.*;\n",
    "\n",
    "// display Tablesaw tables with BeakerX table display widget\n",
    "tech.tablesaw.beakerx.TablesawDisplayer.register();\n",
    "\n",
    "//init objek\n",
    "Table  dfSmallgrade= Table.read().csv(\"datasets/smallgradesh.csv\");\n",
    "\n",
    "//print dataset structure\n",
    "System.out.println(dfSmallgrade.structure());\n",
    "\n",
    "//Menampilkan  ordo data frame Binatang \n",
    "\n",
    "System.out.println(dfSmallgrade.shape())\n",
    "\n",
    "//Menampilkan  5 baris data yang pertama dari data frame Binatang \n",
    "\n",
    "System.out.println(dfSmallgrade.first(5))\n",
    "\n",
    "//Menampilkan 5 baris data yang terakhir dari data frame Binatang\n",
    "\n",
    "System.out.println(dfSmallgrade.last(5))\n",
    "\n",
    "//Menampilkan semua data dari  frame Binatang\n",
    "\n",
    "System.out.println(dfSmallgrade.print());\n",
    "\n",
    "``` \n",
    "#### Latihan 11-1\n",
    "Lakukan Eksekusi dari kode *Listing 10-1* pada pada bidang baris dibawah ini dan amatilah hasilnya"
   ]
  },
  {
   "cell_type": "code",
   "execution_count": null,
   "metadata": {},
   "outputs": [],
   "source": [
    "//kode Latihan 11-1\n"
   ]
  },
  {
   "cell_type": "markdown",
   "metadata": {},
   "source": [
    "## C. Ekspor Data Kedalam File CSV\n",
    "\n",
    "Kita bisa melakukan penyimpanan dari hasil analisis data kita secara permanen. Atau kita akan melakukan transfer data ke dalam tools lain. Berikut ini adalah cara menympan data secara permanen ke dalam file CSV dari suatu data frame.\n",
    "\n",
    "**Listing 11-2.** Export Data to CSV File\n",
    "``` javascript\n",
    "\n",
    "//Inisialisasi pembuatan data frame Animals dengan Kolom animals dan Kolom cuteness\n",
    "Table Binatang = Table.create(\"Cute Animals\")\n",
    "                     .addColumns(StringColumn.create(\"AnimalName\", daftarbinatang),\n",
    "\t\t                         DoubleColumn.create(\"Rating\", gradekelucuan));\n",
    "\n",
    "//Menyimpan data frame Binatang ke dalam file CSV\n",
    "Binatang.write().csv(\"datasets/BinatangRate.csv\");\n",
    "```\n",
    "\n",
    "#### Latihan 11-2\n",
    "1. Lakukan Eksekusi dari kode *Listing 11-2*. dan amatilah hasilnya, \n",
    "2. Rubahlah kode *Listing 11-2*. diatas dengan menyimpan data dari data frame dengan nama file sesuai NIM anda. pada pada bidang baris dibawah ini dan."
   ]
  },
  {
   "cell_type": "code",
   "execution_count": null,
   "metadata": {},
   "outputs": [],
   "source": [
    "//Latihan 11-2.1\n"
   ]
  },
  {
   "cell_type": "code",
   "execution_count": null,
   "metadata": {},
   "outputs": [],
   "source": [
    "//Latihan 11-2.2"
   ]
  },
  {
   "cell_type": "markdown",
   "metadata": {},
   "source": [
    "## D. Mengimpor Data Dari File Excel\n",
    " Kode berikut ini adalah cara mengimpor data dari suatu file Excel.\n",
    "\n",
    "**Listing 11-3.** Import Data From Excel File\n",
    "``` javascript\n",
    "import tech.tablesaw.api.*;\n",
    "import tech.tablesaw.io.xlsx.*;\n",
    "\n",
    "// display Tablesaw tables with BeakerX table display widget\n",
    "tech.tablesaw.beakerx.TablesawDisplayer.register();\n",
    "\n",
    "//init objek XlsReader\n",
    "XlsxReader reader = new XlsxReader();\n",
    "XlsxReadOptions options = XlsxReadOptions.builder(\"datasets/data1.xlsx\").build();\n",
    "Table tab = reader.read(options);\n",
    "\n",
    "Table dfDataXLS = reader.read(options);\n",
    "\n",
    "////Menampilkan struktur data frame dfDataXLS\n",
    "System.out.println(dfDataXLS.structure());\n",
    "\n",
    "//Menampilkan 5 baris data yang terakhir dari data frame dfDataXLS\n",
    "System.out.println(dfDataXLS.first(10));\n",
    "\n",
    "```\n",
    "#### Latihan 11-3\n",
    " 1. Lakukan Eksekusi dari kode *Listing 11-3* pada pada bidang baris dibawah ini dan amatilah hasilnya\n",
    " 2. Ubahlah untuk *Latihan 11-3* menampilkan 10 baris data terakhir dari file data3.xlsx  "
   ]
  },
  {
   "cell_type": "code",
   "execution_count": null,
   "metadata": {},
   "outputs": [],
   "source": [
    "//Latihan 11-3.1\n"
   ]
  },
  {
   "cell_type": "code",
   "execution_count": null,
   "metadata": {},
   "outputs": [],
   "source": [
    "//Latihan 11-3.2"
   ]
  },
  {
   "cell_type": "markdown",
   "metadata": {},
   "source": [
    "## E. Menggabungkan Data Dari Beberapa File Excel\n",
    "\n",
    " Kode berikut ini adalah cara mengimpor data dari beberapa file Excel kedalam sebuah data frame\n",
    "\n",
    "**Listing 11-4.** Import Data From Excel File\n",
    "\n",
    "``` javascript\n",
    "\n",
    "import static tech.tablesaw.aggregate.AggregateFunctions.*;\n",
    "\n",
    "import tech.tablesaw.api.*;\n",
    "import tech.tablesaw.io.xlsx.*;\n",
    "\n",
    "// display Tablesaw tables with BeakerX table display widget\n",
    "tech.tablesaw.beakerx.TablesawDisplayer.register();\n",
    "\n",
    "//init objek\n",
    "XlsxReader reader = new XlsxReader();\n",
    "\n",
    "//membaca file data1.xlsx\n",
    "XlsxReadOptions file1 = XlsxReadOptions.builder(\"datasets/data1.xlsx\").build();\n",
    "\n",
    "//membaca file data1.xlsx\n",
    "XlsxReadOptions file2 = XlsxReadOptions.builder(\"datasets/data2.xlsx\").build();\n",
    "\n",
    "//memasukan data file data1.xlsx ke dataframe data1\n",
    "Table data1 = reader.read(file1);\n",
    "\n",
    "//memasukan data file data2.xlsx ke dataframe data2\n",
    "Table data2 = reader.read(file2);\n",
    "\n",
    "//menampilkan data yang ada di dataframe data1\n",
    "System.out.println(data1.last(5)); \n",
    "\n",
    "//menampilkan summary data yang ada di dataframe data1 kolom \"grade\"\n",
    "System.out.println(data1.summarize(\"grade\", mean, max, min).apply());\n",
    "\n",
    "//menggabungkan data pada dataframedata1 dan dataframedata2 untuk disimpan di df datagabung\n",
    "Table datagabung = data1.append(data2);\n",
    "\n",
    "//menampilkan gabungan data yang ada di dataframe datagabung\n",
    "System.out.println(datagabung.last(5)); \n",
    "\n",
    "//menampilkan summary data yang ada di dataframe datagabung kolom \"grade\"\n",
    "System.out.print(datagabung.summarize(\"grade\", mean, max, min).apply());\n",
    "\n",
    "```\n",
    "#### Latihan 11-4\n",
    " 1. Lakukan Eksekusi dari kode *Listing 11-4* pada pada bidang baris dibawah ini dan amatilah hasilnya\n",
    " 2. Rubah kode *Listing 11-4* untuk menggabungkan data yang ada pada file excel data1.xlsx, data2.xlsx dan data3.xlsx\n",
    " 3. lakukan summarize dari latihan 11-4 point 2"
   ]
  },
  {
   "cell_type": "code",
   "execution_count": null,
   "metadata": {},
   "outputs": [],
   "source": [
    "//Latihan 11-4.1"
   ]
  },
  {
   "cell_type": "code",
   "execution_count": null,
   "metadata": {},
   "outputs": [],
   "source": [
    "//Latihan 11-4.2"
   ]
  },
  {
   "cell_type": "markdown",
   "metadata": {},
   "source": [
    "## F. Mengimpor Data Dari JSON\n",
    "JSON (JavaScript Object Notation) adalah format pertukaran data yang ringan, mudah dibaca dan ditulis oleh manusia, serta mudah diterjemahkan dan dibuat (generate) oleh komputer. Format ini dibuat berdasarkan bagian dari Bahasa Pemprograman JavaScript, Standar ECMA-262.  Kode berikut ini adalah cara mengimpor data dari suatu JSON.\n",
    "\n",
    "**Listing 11-4.** Import Data From JSON\n",
    "``` javascript\n",
    "import tech.tablesaw.api.*;\n",
    "import tech.tablesaw.io.json.*;\n",
    "\n",
    "// display Tablesaw tables with BeakerX table display widget\n",
    "tech.tablesaw.beakerx.TablesawDisplayer.register();\n",
    "\n",
    "//init objek JsonReader \n",
    "JsonReader reader = new JsonReader();\n",
    "\n",
    "//membaca file product.json\n",
    "JsonReadOptions fileJSON = JsonReadOptions.builder(\"datasets/product.json\").build();\n",
    "\n",
    "//memasukan data fileJSON ke dataframe \n",
    "Table tabeljson = reader.read(fileJSON);\n",
    "\n",
    "//menampilkan structure dataframe tabeljson\n",
    "System.out.println(tabeljson.structure());\n",
    "\n",
    "//menampilkan 4 data terkhir pada dataframe tabeljson\n",
    "System.out.println(tabeljson.first(4));\n",
    "```\n",
    "#### Latihan 11-4\n",
    "Lakukan Eksekusi dari kode *Listing 10-4* pada pada bidang baris dibawah ini dan amatilah hasilnya"
   ]
  },
  {
   "cell_type": "code",
   "execution_count": null,
   "metadata": {},
   "outputs": [],
   "source": [
    "//Latihan 10-4"
   ]
  },
  {
   "cell_type": "markdown",
   "metadata": {},
   "source": [
    "## G. Mengimpor Data Dari Website Atau API\n",
    "\n",
    "Cara yang lebih fleksibel dalam mengakses data source adalah langsung mengakses dari sumber data langsung dari internet atau suatu web site tertentu baik melalui API ada file yang ditempatkan secara public pada mesin tertentu.\n",
    "\n",
    "**Listing 11-5.** Import Data Dari Website\n",
    "``` javascript\n",
    "import java.io.*;\n",
    "import java.net.*;\n",
    "import tech.tablesaw.api.*;\n",
    "import tech.tablesaw.api.ColumnType;\n",
    "\n",
    "tech.tablesaw.beakerx.TablesawDisplayer.register();\n",
    "\n",
    "// Inisialisasi alamat URL\n",
    "String alamatURL = \"https://raw.githubusercontent.com/jtablesaw/tablesaw/master/data/bush.csv\";\n",
    "\n",
    "//inisialisasi objek data frame dfBush\n",
    "Table dfBush; \n",
    "\n",
    "//mengakses alamatURL melalui objek input\n",
    "try (InputStream input = new URL(alamatURL).openStream()) {\n",
    "\n",
    "   //memasukan data hasil objek input ke dalam data frame dfBush  \n",
    "   dfBush = Table.read().csv(input, \"bush\"); \n",
    "   \n",
    "   //menampilkan structure dfBush\n",
    "   System.out.println(dfBush.structure()); \n",
    "\n",
    "   //menampilkan 4 baris pertama data dataframe dfBush\n",
    "   System.out.println(dfBush.first(4)); \n",
    "} catch (IOException e) {\n",
    "  // TODO Auto-generated catch block\n",
    "   e.printStackTrace();\n",
    "}   \n",
    "``` \n",
    "#### Latihan 11-5\n",
    "Lakukan Eksekusi dari kode *Listing 11-5* pada pada bidang baris dibawah ini dan amatilah hasilnya"
   ]
  },
  {
   "cell_type": "code",
   "execution_count": null,
   "metadata": {},
   "outputs": [],
   "source": [
    "//Latihan 11-5\n"
   ]
  },
  {
   "cell_type": "markdown",
   "metadata": {},
   "source": [
    "## H. Mengimpor Data Dari Database\n",
    "\n",
    "Kita juga bisa mengakses data source dari suatu database dengan perintah- perintah query.\n",
    "Kode dibawah ini adalah cara menginisialisasi sebuah data frame dari suatu objek database. \n",
    "``` javascript\n",
    "Table t = Table.read().db(ResultSet resultSet, String tableName);\n",
    "```\n",
    "\n",
    "Berikut ini adalah kode lengkap dengan menggunakan JDBC setup dari subuah database SQLLite. \n",
    "\n",
    "**Listing 11-6.** Import Data Dari Database\n",
    "``` javascript\n",
    "import java.sql.Connection;\n",
    "import java.sql.DriverManager;\n",
    "import java.sql.SQLException;\n",
    "import java.util.Properties;\n",
    "import java.sql.ResultSet;\n",
    "import java.sql.Statement;\n",
    "\n",
    "import tech.tablesaw.api.*;\n",
    "\n",
    "Connection conn = null;\n",
    "String DB_URL = \"jdbc:sqlite:datasets/gradedata.db\";\n",
    "\n",
    "//if use windows OS use this statment\n",
    "// String DB_URL =\"jdbc:sqlite:D:\\\\db\\\\gradedata.db\";\n",
    "\n",
    "\n",
    "   try {\n",
    "    \n",
    "      Class.forName(\"org.sqlite.JDBC\");\n",
    "\n",
    "      conn = DriverManager.getConnection(DB_URL);    \n",
    "      \n",
    "        System.out.println(\"Koneksi ke SQLite DB has been established.\");\n",
    "          \n",
    "    } catch ( Exception e ) {\n",
    "    \n",
    "       System.err.println( e.getClass().getName() + \": \" + e.getMessage() );\n",
    "\n",
    "       System.exit(0);\n",
    "    }\n",
    "\n",
    "\n",
    "Table dfTest = null; \n",
    "\n",
    "try (Statement stmt = conn.createStatement()) {\n",
    "    \n",
    "  String sql = \"SELECT * FROM test\";\n",
    "    \n",
    "  try (ResultSet results = stmt.executeQuery(sql)) {\n",
    "      \n",
    "       dfTest = Table.read().db(results, \"test\");\n",
    "  }\n",
    "    \n",
    "}\n",
    "\n",
    "System.out.println(dfTest.last(5)); \n",
    "\n",
    "```\n",
    "#### Latihan 11-6\n",
    " 1. Lakukan Eksekusi dari kode *Listing 11-6* pada pada bidang baris dibawah ini dan amatilah hasilnya. \n",
    "\n",
    " 2. Kemudian lakukan perubahan kode *Listing 11-6* untuk :\n",
    "    * menampilkan jumlah record dari table test\n",
    "    * menampilkan data record dari field person dengan nama John \n",
    "    "
   ]
  },
  {
   "cell_type": "code",
   "execution_count": null,
   "metadata": {},
   "outputs": [],
   "source": [
    "//Latihan 11-6.1\n"
   ]
  },
  {
   "cell_type": "code",
   "execution_count": null,
   "metadata": {},
   "outputs": [],
   "source": [
    "//Latihan 11-6.2"
   ]
  },
  {
   "cell_type": "markdown",
   "metadata": {},
   "source": [
    "## I. Ektraksi Data Dari Suatu Website\n",
    "\n",
    "*Web scraping* adalah proses ekstrasi data dari sebuah website. Salah satu contoh web scraping adalah meng-copy daftar contact dari sebuah web atau mendapatka data produk berikut atributnya dari sebuah website e-commerce bahkan kita bisa melakukan analisa data kompetitor.\n",
    "\n",
    "Berikut ini adalah kode lengkap melakukan web scraping dari suatu halaman website. \n",
    "\n",
    "**Listing 11-7.** Memperoleh data hasil ekstrasi dari sebuah website\n",
    "\n",
    "``` javascript\n",
    "import org.jsoup.Jsoup;\n",
    "import org.jsoup.nodes.Document;\n",
    "import org.jsoup.nodes.Element;\n",
    "\n",
    "final Document document = Jsoup.connect(\"http://www.imdb.com/chart/top\").get();\n",
    "\n",
    "for (Element row : document.select(\"table.chart.full-width tr\")) {\n",
    "\n",
    "        final String JudulFilm = row.select(\".titleColumn a\").text();\n",
    "        final String Rating = row.select(\".imdbRating\").text();\n",
    "\n",
    "        System.out.println(JudulFilm + \" -> Rating: \" + Rating);\n",
    "}\n",
    "\n",
    "```\n",
    "#### Latihan 11-7\n",
    " 1. Lakukan Eksekusi dari kode *Listing 11-7* pada pada bidang baris dibawah ini dan amatilah hasilnya. \n",
    " 2. Kemudian lakukan perubahan kode *Listing 11-7* untuk :\n",
    "    * Buat objek data frame untuk menampung data - data film hasil ektraksi \n",
    "    * Tampilkan 20 besar film - film terlaris dari data frame yang anda buat "
   ]
  },
  {
   "cell_type": "code",
   "execution_count": null,
   "metadata": {},
   "outputs": [],
   "source": [
    "//Listing 11-7.1"
   ]
  },
  {
   "cell_type": "code",
   "execution_count": null,
   "metadata": {},
   "outputs": [],
   "source": [
    "//Listing 11-7.2"
   ]
  }
 ],
 "metadata": {
  "kernelspec": {
   "display_name": "Java",
   "language": "java",
   "name": "java"
  },
  "language_info": {
   "codemirror_mode": "text/x-java",
   "file_extension": ".java",
   "mimetype": "",
   "name": "Java",
   "nbconverter_exporter": "",
   "version": "1.8.0_181"
  }
 },
 "nbformat": 4,
 "nbformat_minor": 4
}
